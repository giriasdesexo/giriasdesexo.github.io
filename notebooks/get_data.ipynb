{
 "cells": [
  {
   "cell_type": "code",
   "execution_count": 8,
   "metadata": {},
   "outputs": [],
   "source": [
    "from nltk.corpus import floresta\n",
    "import pandas as pd\n",
    "import json\n",
    "import re"
   ]
  },
  {
   "cell_type": "code",
   "execution_count": 18,
   "metadata": {},
   "outputs": [],
   "source": [
    "def split_tag(t):\n",
    "    return re.split('\\+(?!.\\])', t)\n",
    "\n",
    "def split_and_join(s):\n",
    "    return ' '.join(s.split('_'))"
   ]
  },
  {
   "cell_type": "code",
   "execution_count": 3,
   "metadata": {},
   "outputs": [
    {
     "data": {
      "text/html": [
       "<div>\n",
       "<style scoped>\n",
       "    .dataframe tbody tr th:only-of-type {\n",
       "        vertical-align: middle;\n",
       "    }\n",
       "\n",
       "    .dataframe tbody tr th {\n",
       "        vertical-align: top;\n",
       "    }\n",
       "\n",
       "    .dataframe thead th {\n",
       "        text-align: right;\n",
       "    }\n",
       "</style>\n",
       "<table border=\"1\" class=\"dataframe\">\n",
       "  <thead>\n",
       "    <tr style=\"text-align: right;\">\n",
       "      <th></th>\n",
       "      <th>Word</th>\n",
       "      <th>Function</th>\n",
       "      <th>Form</th>\n",
       "    </tr>\n",
       "  </thead>\n",
       "  <tbody>\n",
       "    <tr>\n",
       "      <th>0</th>\n",
       "      <td>um</td>\n",
       "      <td>&gt;N</td>\n",
       "      <td>art</td>\n",
       "    </tr>\n",
       "    <tr>\n",
       "      <th>1</th>\n",
       "      <td>revivalismo</td>\n",
       "      <td>H</td>\n",
       "      <td>n</td>\n",
       "    </tr>\n",
       "    <tr>\n",
       "      <th>2</th>\n",
       "      <td>refrescante</td>\n",
       "      <td>N&lt;</td>\n",
       "      <td>adj</td>\n",
       "    </tr>\n",
       "    <tr>\n",
       "      <th>3</th>\n",
       "      <td>o</td>\n",
       "      <td>&gt;N</td>\n",
       "      <td>art</td>\n",
       "    </tr>\n",
       "    <tr>\n",
       "      <th>4</th>\n",
       "      <td>7_e_meio</td>\n",
       "      <td>H</td>\n",
       "      <td>prop</td>\n",
       "    </tr>\n",
       "  </tbody>\n",
       "</table>\n",
       "</div>"
      ],
      "text/plain": [
       "          Word Function  Form\n",
       "0           um       >N   art\n",
       "1  revivalismo        H     n\n",
       "2  refrescante       N<   adj\n",
       "3            o       >N   art\n",
       "4     7_e_meio        H  prop"
      ]
     },
     "execution_count": 3,
     "metadata": {},
     "output_type": "execute_result"
    }
   ],
   "source": [
    "data = [(s.lower(), t) for (s, t) in floresta.tagged_words()]\n",
    "data = pd.DataFrame(data, columns=['Word', 'Tag'])\n",
    "\n",
    "data['Tag split'] = data['Tag'].apply(split_tag)\n",
    "data = data[data['Tag split'].apply(len) == 2]\n",
    "\n",
    "data['Function'] = data['Tag split'].apply(lambda x: x[0])\n",
    "data['Form'] = data['Tag split'].apply(lambda x: x[1])\n",
    "\n",
    "data.drop(['Tag', 'Tag split'], axis=1, inplace=True)\n",
    "data.head()"
   ]
  },
  {
   "cell_type": "code",
   "execution_count": 27,
   "metadata": {},
   "outputs": [],
   "source": [
    "noun = data[data['Form'] == 'n']['Word'].apply(lambda x: x.strip('-'))\n",
    "verb = data[data['Form'] == 'v-ger']['Word'].apply(lambda x: x.strip('-'))\n",
    "\n",
    "noun = noun.apply(split_and_join)\n",
    "verb = verb.apply(split_and_join)\n",
    "\n",
    "noun = noun.unique()\n",
    "verb = verb.unique()"
   ]
  },
  {
   "cell_type": "code",
   "execution_count": 24,
   "metadata": {},
   "outputs": [],
   "source": [
    "data_json = {\n",
    "    'substantivo': list(noun),\n",
    "    'verbo': list(verb)\n",
    "}"
   ]
  },
  {
   "cell_type": "code",
   "execution_count": 26,
   "metadata": {},
   "outputs": [],
   "source": [
    "with open('data.json', 'w') as file:\n",
    "    json.dump(data_json, file, indent=4)"
   ]
  }
 ],
 "metadata": {
  "kernelspec": {
   "display_name": "Python 3",
   "language": "python",
   "name": "python3"
  },
  "language_info": {
   "codemirror_mode": {
    "name": "ipython",
    "version": 3
   },
   "file_extension": ".py",
   "mimetype": "text/x-python",
   "name": "python",
   "nbconvert_exporter": "python",
   "pygments_lexer": "ipython3",
   "version": "3.7.6"
  }
 },
 "nbformat": 4,
 "nbformat_minor": 4
}
